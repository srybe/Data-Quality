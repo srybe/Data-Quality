{
 "cells": [
  {
   "cell_type": "code",
   "execution_count": 158,
   "id": "f09a77b2",
   "metadata": {},
   "outputs": [],
   "source": [
    "import pandas as pd\n",
    "import matplotlib.pyplot as plt\n",
    "from sklearn import linear_model\n",
    "\n",
    "# Enable inline plotting\n",
    "%matplotlib inline\n",
    "\n",
    "plt.rcParams[\"figure.figsize\"]=15,10 # changing the size of the graphs."
   ]
  },
  {
   "cell_type": "code",
   "execution_count": 2,
   "id": "ac7c56f6",
   "metadata": {},
   "outputs": [],
   "source": [
    "#Code: code for the battleground (not needed for analysis).\n",
    "#Faction: faction of the player (Horde or Alliance).\n",
    "#Class: class of the player (warrior, paladin, hunter, rogue, priest, death knight, shaman, mage, warlock, monk, druid, demon hunter).\n",
    "#KB: number of mortal kills given by the player.\n",
    "#D: number of times that the player died.\n",
    "#HK: number of killings where the player or his/her group contributed.\n",
    "#DD: damage done by the player.\n",
    "#HD: healing done by the player.\n",
    "#Honor: honor awarded to the player.\n",
    "#Win: 1 if the player won.\n",
    "#Lose: 1 if the player lost.\n",
    "#Rol: dps if the player is a damage dealer; heal if the player is focused in healing allies. Note that not all classes can be healers, just shaman, paladin, priest, monk and druid, but all classes can be damage dealers.\n",
    "#BE: some weeks there is a bonus event, when the honor gained is increased. 1 if the battleground happened during that week."
   ]
  },
  {
   "cell_type": "code",
   "execution_count": 3,
   "id": "92a56439",
   "metadata": {},
   "outputs": [],
   "source": [
    "#AB: Arathi basin.\n",
    "#BG: Battle for Gilneas.\n",
    "#DG: Deepwind gorge.\n",
    "#ES: Eye of the storm.\n",
    "#SA: Strand of the ancients.\n",
    "#SM: Silvershard mines.\n",
    "#SS: Seething shore.\n",
    "#TK: Temple of Kotmogu.\n",
    "#TP: Twin peaks.\n",
    "#WG: Warsong gulch."
   ]
  },
  {
   "cell_type": "code",
   "execution_count": null,
   "id": "9891379c",
   "metadata": {},
   "outputs": [],
   "source": [
    "# To - do list\n",
    "# Check the amount of honor based on the 'HK' = Honorable Kills\n",
    "# and see if they have won or not based on the amount of honor gained.\n",
    "# compare the stats from Temple of Kotmogu to Walsong Gulch to see the performance.\n",
    "# Comparing heals & damage done from different classees & the battleground that they are in."
   ]
  },
  {
   "cell_type": "code",
   "execution_count": 152,
   "id": "3c1fcd26",
   "metadata": {},
   "outputs": [],
   "source": [
    "df = pd.read_csv('wowbgs.csv')\n",
    "dfwg = pd.read_csv('wowwg.csv')\n",
    "dftk = pd.read_csv('wowtk.csv')"
   ]
  },
  {
   "cell_type": "code",
   "execution_count": 47,
   "id": "cb211c26",
   "metadata": {},
   "outputs": [
    {
     "data": {
      "text/html": [
       "<div>\n",
       "<style scoped>\n",
       "    .dataframe tbody tr th:only-of-type {\n",
       "        vertical-align: middle;\n",
       "    }\n",
       "\n",
       "    .dataframe tbody tr th {\n",
       "        vertical-align: top;\n",
       "    }\n",
       "\n",
       "    .dataframe thead th {\n",
       "        text-align: right;\n",
       "    }\n",
       "</style>\n",
       "<table border=\"1\" class=\"dataframe\">\n",
       "  <thead>\n",
       "    <tr style=\"text-align: right;\">\n",
       "      <th></th>\n",
       "      <th>Battleground</th>\n",
       "      <th>Code</th>\n",
       "      <th>Faction</th>\n",
       "      <th>Class</th>\n",
       "      <th>KB</th>\n",
       "      <th>D</th>\n",
       "      <th>HK</th>\n",
       "      <th>DD</th>\n",
       "      <th>HD</th>\n",
       "      <th>Honor</th>\n",
       "      <th>Win</th>\n",
       "      <th>Lose</th>\n",
       "      <th>Rol</th>\n",
       "      <th>BE</th>\n",
       "    </tr>\n",
       "  </thead>\n",
       "  <tbody>\n",
       "    <tr>\n",
       "      <th>0</th>\n",
       "      <td>WG</td>\n",
       "      <td>WG1</td>\n",
       "      <td>Horde</td>\n",
       "      <td>Hunter</td>\n",
       "      <td>1</td>\n",
       "      <td>3</td>\n",
       "      <td>14</td>\n",
       "      <td>48155</td>\n",
       "      <td>6641</td>\n",
       "      <td>532</td>\n",
       "      <td>1.0</td>\n",
       "      <td>NaN</td>\n",
       "      <td>dps</td>\n",
       "      <td>NaN</td>\n",
       "    </tr>\n",
       "    <tr>\n",
       "      <th>1</th>\n",
       "      <td>WG</td>\n",
       "      <td>WG1</td>\n",
       "      <td>Horde</td>\n",
       "      <td>Death Knight</td>\n",
       "      <td>1</td>\n",
       "      <td>3</td>\n",
       "      <td>12</td>\n",
       "      <td>27025</td>\n",
       "      <td>7106</td>\n",
       "      <td>377</td>\n",
       "      <td>1.0</td>\n",
       "      <td>NaN</td>\n",
       "      <td>dps</td>\n",
       "      <td>NaN</td>\n",
       "    </tr>\n",
       "    <tr>\n",
       "      <th>2</th>\n",
       "      <td>WG</td>\n",
       "      <td>WG1</td>\n",
       "      <td>Alliance</td>\n",
       "      <td>Paladin</td>\n",
       "      <td>0</td>\n",
       "      <td>1</td>\n",
       "      <td>19</td>\n",
       "      <td>824</td>\n",
       "      <td>93879</td>\n",
       "      <td>252</td>\n",
       "      <td>NaN</td>\n",
       "      <td>1.0</td>\n",
       "      <td>heal</td>\n",
       "      <td>NaN</td>\n",
       "    </tr>\n",
       "    <tr>\n",
       "      <th>3</th>\n",
       "      <td>WG</td>\n",
       "      <td>WG1</td>\n",
       "      <td>Alliance</td>\n",
       "      <td>Paladin</td>\n",
       "      <td>1</td>\n",
       "      <td>2</td>\n",
       "      <td>25</td>\n",
       "      <td>7046</td>\n",
       "      <td>98599</td>\n",
       "      <td>274</td>\n",
       "      <td>NaN</td>\n",
       "      <td>1.0</td>\n",
       "      <td>heal</td>\n",
       "      <td>NaN</td>\n",
       "    </tr>\n",
       "    <tr>\n",
       "      <th>4</th>\n",
       "      <td>WG</td>\n",
       "      <td>WG1</td>\n",
       "      <td>Alliance</td>\n",
       "      <td>Rogue</td>\n",
       "      <td>2</td>\n",
       "      <td>3</td>\n",
       "      <td>23</td>\n",
       "      <td>65483</td>\n",
       "      <td>19629</td>\n",
       "      <td>268</td>\n",
       "      <td>NaN</td>\n",
       "      <td>1.0</td>\n",
       "      <td>dps</td>\n",
       "      <td>NaN</td>\n",
       "    </tr>\n",
       "  </tbody>\n",
       "</table>\n",
       "</div>"
      ],
      "text/plain": [
       "  Battleground Code   Faction         Class  KB  D  HK     DD     HD  Honor  \\\n",
       "0           WG  WG1     Horde        Hunter   1  3  14  48155   6641    532   \n",
       "1           WG  WG1     Horde  Death Knight   1  3  12  27025   7106    377   \n",
       "2           WG  WG1  Alliance       Paladin   0  1  19    824  93879    252   \n",
       "3           WG  WG1  Alliance       Paladin   1  2  25   7046  98599    274   \n",
       "4           WG  WG1  Alliance         Rogue   2  3  23  65483  19629    268   \n",
       "\n",
       "   Win  Lose   Rol  BE  \n",
       "0  1.0   NaN   dps NaN  \n",
       "1  1.0   NaN   dps NaN  \n",
       "2  NaN   1.0  heal NaN  \n",
       "3  NaN   1.0  heal NaN  \n",
       "4  NaN   1.0   dps NaN  "
      ]
     },
     "execution_count": 47,
     "metadata": {},
     "output_type": "execute_result"
    }
   ],
   "source": [
    "df.head()"
   ]
  },
  {
   "cell_type": "code",
   "execution_count": 80,
   "id": "51e27d4a",
   "metadata": {},
   "outputs": [
    {
     "data": {
      "text/html": [
       "<div>\n",
       "<style scoped>\n",
       "    .dataframe tbody tr th:only-of-type {\n",
       "        vertical-align: middle;\n",
       "    }\n",
       "\n",
       "    .dataframe tbody tr th {\n",
       "        vertical-align: top;\n",
       "    }\n",
       "\n",
       "    .dataframe thead th {\n",
       "        text-align: right;\n",
       "    }\n",
       "</style>\n",
       "<table border=\"1\" class=\"dataframe\">\n",
       "  <thead>\n",
       "    <tr style=\"text-align: right;\">\n",
       "      <th></th>\n",
       "      <th>Code</th>\n",
       "      <th>Faction</th>\n",
       "      <th>Class</th>\n",
       "      <th>KB</th>\n",
       "      <th>D</th>\n",
       "      <th>HK</th>\n",
       "      <th>DD</th>\n",
       "      <th>HD</th>\n",
       "      <th>FC</th>\n",
       "      <th>FR</th>\n",
       "      <th>Honor</th>\n",
       "      <th>Win</th>\n",
       "      <th>Lose</th>\n",
       "      <th>Rol</th>\n",
       "      <th>BE</th>\n",
       "    </tr>\n",
       "  </thead>\n",
       "  <tbody>\n",
       "    <tr>\n",
       "      <th>0</th>\n",
       "      <td>WG1</td>\n",
       "      <td>Horde</td>\n",
       "      <td>Hunter</td>\n",
       "      <td>1</td>\n",
       "      <td>3</td>\n",
       "      <td>14</td>\n",
       "      <td>48155</td>\n",
       "      <td>6641</td>\n",
       "      <td>1.0</td>\n",
       "      <td>NaN</td>\n",
       "      <td>532</td>\n",
       "      <td>1.0</td>\n",
       "      <td>NaN</td>\n",
       "      <td>dps</td>\n",
       "      <td>NaN</td>\n",
       "    </tr>\n",
       "    <tr>\n",
       "      <th>1</th>\n",
       "      <td>WG1</td>\n",
       "      <td>Horde</td>\n",
       "      <td>Death Knight</td>\n",
       "      <td>1</td>\n",
       "      <td>3</td>\n",
       "      <td>12</td>\n",
       "      <td>27025</td>\n",
       "      <td>7106</td>\n",
       "      <td>NaN</td>\n",
       "      <td>NaN</td>\n",
       "      <td>377</td>\n",
       "      <td>1.0</td>\n",
       "      <td>NaN</td>\n",
       "      <td>dps</td>\n",
       "      <td>NaN</td>\n",
       "    </tr>\n",
       "    <tr>\n",
       "      <th>2</th>\n",
       "      <td>WG1</td>\n",
       "      <td>Alliance</td>\n",
       "      <td>Paladin</td>\n",
       "      <td>0</td>\n",
       "      <td>1</td>\n",
       "      <td>19</td>\n",
       "      <td>824</td>\n",
       "      <td>93879</td>\n",
       "      <td>NaN</td>\n",
       "      <td>NaN</td>\n",
       "      <td>252</td>\n",
       "      <td>NaN</td>\n",
       "      <td>1.0</td>\n",
       "      <td>heal</td>\n",
       "      <td>NaN</td>\n",
       "    </tr>\n",
       "    <tr>\n",
       "      <th>3</th>\n",
       "      <td>WG1</td>\n",
       "      <td>Alliance</td>\n",
       "      <td>Paladin</td>\n",
       "      <td>1</td>\n",
       "      <td>2</td>\n",
       "      <td>25</td>\n",
       "      <td>7046</td>\n",
       "      <td>98599</td>\n",
       "      <td>NaN</td>\n",
       "      <td>NaN</td>\n",
       "      <td>274</td>\n",
       "      <td>NaN</td>\n",
       "      <td>1.0</td>\n",
       "      <td>heal</td>\n",
       "      <td>NaN</td>\n",
       "    </tr>\n",
       "    <tr>\n",
       "      <th>4</th>\n",
       "      <td>WG1</td>\n",
       "      <td>Alliance</td>\n",
       "      <td>Rogue</td>\n",
       "      <td>2</td>\n",
       "      <td>3</td>\n",
       "      <td>23</td>\n",
       "      <td>65483</td>\n",
       "      <td>19629</td>\n",
       "      <td>NaN</td>\n",
       "      <td>NaN</td>\n",
       "      <td>268</td>\n",
       "      <td>NaN</td>\n",
       "      <td>1.0</td>\n",
       "      <td>dps</td>\n",
       "      <td>NaN</td>\n",
       "    </tr>\n",
       "  </tbody>\n",
       "</table>\n",
       "</div>"
      ],
      "text/plain": [
       "  Code   Faction         Class  KB  D  HK     DD     HD   FC  FR  Honor  Win  \\\n",
       "0  WG1     Horde        Hunter   1  3  14  48155   6641  1.0 NaN    532  1.0   \n",
       "1  WG1     Horde  Death Knight   1  3  12  27025   7106  NaN NaN    377  1.0   \n",
       "2  WG1  Alliance       Paladin   0  1  19    824  93879  NaN NaN    252  NaN   \n",
       "3  WG1  Alliance       Paladin   1  2  25   7046  98599  NaN NaN    274  NaN   \n",
       "4  WG1  Alliance         Rogue   2  3  23  65483  19629  NaN NaN    268  NaN   \n",
       "\n",
       "   Lose   Rol  BE  \n",
       "0   NaN   dps NaN  \n",
       "1   NaN   dps NaN  \n",
       "2   1.0  heal NaN  \n",
       "3   1.0  heal NaN  \n",
       "4   1.0   dps NaN  "
      ]
     },
     "execution_count": 80,
     "metadata": {},
     "output_type": "execute_result"
    }
   ],
   "source": [
    "dfwg.head()"
   ]
  },
  {
   "cell_type": "code",
   "execution_count": 162,
   "id": "d2a790dc",
   "metadata": {},
   "outputs": [
    {
     "data": {
      "text/html": [
       "<div>\n",
       "<style scoped>\n",
       "    .dataframe tbody tr th:only-of-type {\n",
       "        vertical-align: middle;\n",
       "    }\n",
       "\n",
       "    .dataframe tbody tr th {\n",
       "        vertical-align: top;\n",
       "    }\n",
       "\n",
       "    .dataframe thead th {\n",
       "        text-align: right;\n",
       "    }\n",
       "</style>\n",
       "<table border=\"1\" class=\"dataframe\">\n",
       "  <thead>\n",
       "    <tr style=\"text-align: right;\">\n",
       "      <th></th>\n",
       "      <th>Code</th>\n",
       "      <th>Faction</th>\n",
       "      <th>Class</th>\n",
       "      <th>KB</th>\n",
       "      <th>D</th>\n",
       "      <th>HK</th>\n",
       "      <th>DD</th>\n",
       "      <th>HD</th>\n",
       "      <th>OP</th>\n",
       "      <th>VP</th>\n",
       "      <th>Honor</th>\n",
       "      <th>Win</th>\n",
       "      <th>Lose</th>\n",
       "      <th>Rol</th>\n",
       "      <th>BE</th>\n",
       "    </tr>\n",
       "  </thead>\n",
       "  <tbody>\n",
       "    <tr>\n",
       "      <th>0</th>\n",
       "      <td>TK1</td>\n",
       "      <td>Alliance</td>\n",
       "      <td>Death Knight</td>\n",
       "      <td>6</td>\n",
       "      <td>3</td>\n",
       "      <td>58</td>\n",
       "      <td>25925</td>\n",
       "      <td>11314</td>\n",
       "      <td>4.0</td>\n",
       "      <td>444</td>\n",
       "      <td>554</td>\n",
       "      <td>1.0</td>\n",
       "      <td>NaN</td>\n",
       "      <td>dps</td>\n",
       "      <td>NaN</td>\n",
       "    </tr>\n",
       "    <tr>\n",
       "      <th>1</th>\n",
       "      <td>TK1</td>\n",
       "      <td>Alliance</td>\n",
       "      <td>Mage</td>\n",
       "      <td>6</td>\n",
       "      <td>2</td>\n",
       "      <td>57</td>\n",
       "      <td>28438</td>\n",
       "      <td>5258</td>\n",
       "      <td>1.0</td>\n",
       "      <td>120</td>\n",
       "      <td>251</td>\n",
       "      <td>1.0</td>\n",
       "      <td>NaN</td>\n",
       "      <td>dps</td>\n",
       "      <td>NaN</td>\n",
       "    </tr>\n",
       "    <tr>\n",
       "      <th>2</th>\n",
       "      <td>TK1</td>\n",
       "      <td>Alliance</td>\n",
       "      <td>Druid</td>\n",
       "      <td>8</td>\n",
       "      <td>3</td>\n",
       "      <td>55</td>\n",
       "      <td>45584</td>\n",
       "      <td>7932</td>\n",
       "      <td>NaN</td>\n",
       "      <td>80</td>\n",
       "      <td>547</td>\n",
       "      <td>1.0</td>\n",
       "      <td>NaN</td>\n",
       "      <td>dps</td>\n",
       "      <td>NaN</td>\n",
       "    </tr>\n",
       "    <tr>\n",
       "      <th>3</th>\n",
       "      <td>TK1</td>\n",
       "      <td>Alliance</td>\n",
       "      <td>Shaman</td>\n",
       "      <td>0</td>\n",
       "      <td>0</td>\n",
       "      <td>59</td>\n",
       "      <td>7664</td>\n",
       "      <td>54796</td>\n",
       "      <td>NaN</td>\n",
       "      <td>0</td>\n",
       "      <td>405</td>\n",
       "      <td>1.0</td>\n",
       "      <td>NaN</td>\n",
       "      <td>heal</td>\n",
       "      <td>NaN</td>\n",
       "    </tr>\n",
       "    <tr>\n",
       "      <th>4</th>\n",
       "      <td>TK1</td>\n",
       "      <td>Horde</td>\n",
       "      <td>Warrior</td>\n",
       "      <td>2</td>\n",
       "      <td>6</td>\n",
       "      <td>12</td>\n",
       "      <td>32693</td>\n",
       "      <td>7929</td>\n",
       "      <td>NaN</td>\n",
       "      <td>20</td>\n",
       "      <td>185</td>\n",
       "      <td>NaN</td>\n",
       "      <td>1.0</td>\n",
       "      <td>dps</td>\n",
       "      <td>NaN</td>\n",
       "    </tr>\n",
       "  </tbody>\n",
       "</table>\n",
       "</div>"
      ],
      "text/plain": [
       "  Code   Faction         Class  KB  D  HK     DD     HD   OP   VP  Honor  Win  \\\n",
       "0  TK1  Alliance  Death Knight   6  3  58  25925  11314  4.0  444    554  1.0   \n",
       "1  TK1  Alliance          Mage   6  2  57  28438   5258  1.0  120    251  1.0   \n",
       "2  TK1  Alliance         Druid   8  3  55  45584   7932  NaN   80    547  1.0   \n",
       "3  TK1  Alliance        Shaman   0  0  59   7664  54796  NaN    0    405  1.0   \n",
       "4  TK1     Horde       Warrior   2  6  12  32693   7929  NaN   20    185  NaN   \n",
       "\n",
       "   Lose   Rol  BE  \n",
       "0   NaN   dps NaN  \n",
       "1   NaN   dps NaN  \n",
       "2   NaN   dps NaN  \n",
       "3   NaN  heal NaN  \n",
       "4   1.0   dps NaN  "
      ]
     },
     "execution_count": 162,
     "metadata": {},
     "output_type": "execute_result"
    }
   ],
   "source": [
    "dftk.head()"
   ]
  },
  {
   "cell_type": "code",
   "execution_count": 160,
   "id": "587eeef3",
   "metadata": {},
   "outputs": [
    {
     "data": {
      "text/plain": [
       "<Figure size 1080x720 with 0 Axes>"
      ]
     },
     "metadata": {},
     "output_type": "display_data"
    },
    {
     "data": {
      "image/png": "[encoded data removed]",
      "text/plain": [
       "<Figure size 1080x720 with 1 Axes>"
      ]
     },
     "metadata": {
      "needs_background": "light"
     },
     "output_type": "display_data"
    }
   ],
   "source": [
    "plt.figure()\n",
    "dfwg.boxplot(column='DD', by='Class', grid=False)\n",
    "plt.xlabel('Classes')\n",
    "plt.ylabel('Damage done')\n",
    "plt.suptitle(\"\")\n",
    "plt.title(\"Damage done by each class\")\n",
    "plt.show()\n",
    "# Displaying the damange done by each player from each class in Warsong Gulch."
   ]
  },
  {
   "cell_type": "code",
   "execution_count": 161,
   "id": "07cd29f1",
   "metadata": {},
   "outputs": [
    {
     "data": {
      "text/plain": [
       "<Figure size 1080x720 with 0 Axes>"
      ]
     },
     "metadata": {},
     "output_type": "display_data"
    },
    {
     "data": {
      "image/png": "[encoded data removed]",
      "text/plain": [
       "<Figure size 1080x720 with 1 Axes>"
      ]
     },
     "metadata": {
      "needs_background": "light"
     },
     "output_type": "display_data"
    }
   ],
   "source": [
    "plt.figure()\n",
    "dfwg.boxplot(column='HD', by='Class', grid=False)\n",
    "plt.xlabel('Classes')\n",
    "plt.ylabel('Heals done')\n",
    "plt.suptitle(\"\")\n",
    "plt.title(\"Healing done by each class\")\n",
    "plt.show()\n",
    "\n",
    "# Displaying the Heals done by each player from each class in Warsong Gulch."
   ]
  },
  {
   "cell_type": "code",
   "execution_count": 67,
   "id": "5d9529bd",
   "metadata": {},
   "outputs": [],
   "source": [
    "df_paladin = df1[df1['Class']=='Paladin']\n"
   ]
  },
  {
   "cell_type": "code",
   "execution_count": 169,
   "id": "04d6a591",
   "metadata": {},
   "outputs": [],
   "source": [
    "df_warrior = df1[df1['Class']=='Warrior']\n",
    "dfwg_warrior = dfwg[dfwg['Class']=='Warrior']\n",
    "dftk_warrior = dftk[dftk['Class']=='Warrior']"
   ]
  },
  {
   "cell_type": "code",
   "execution_count": 65,
   "id": "030dcc32",
   "metadata": {},
   "outputs": [],
   "source": [
    "df_rogue = df1[df1['Class']=='Rogue']\n"
   ]
  },
  {
   "cell_type": "code",
   "execution_count": 64,
   "id": "3b7a5ce9",
   "metadata": {},
   "outputs": [],
   "source": [
    "df_hunter = df1[df1['Class']=='Hunter']\n"
   ]
  },
  {
   "cell_type": "code",
   "execution_count": 163,
   "id": "ccecd3ed",
   "metadata": {},
   "outputs": [],
   "source": [
    "df_monk = df[df['Class'] == 'Monk']\n",
    "dfwg_monk = dfwg[dfwg['Class']=='Monk']  # making sure we get the right class  \n",
    "dftk_monk = dftk[dftk['Class']=='Monk']  # to make sure we get the correct amount of monks"
   ]
  },
  {
   "cell_type": "code",
   "execution_count": 127,
   "id": "33c673a8",
   "metadata": {},
   "outputs": [
    {
     "name": "stdout",
     "output_type": "stream",
     "text": [
      "  Battleground         Class  KB  D  HK     DD     HD  Win  Lose   Rol  BE\n",
      "0           WG        Hunter   1  3  14  48155   6641  1.0   NaN   dps NaN\n",
      "1           WG  Death Knight   1  3  12  27025   7106  1.0   NaN   dps NaN\n",
      "2           WG       Paladin   0  1  19    824  93879  NaN   1.0  heal NaN\n",
      "3           WG       Paladin   1  2  25   7046  98599  NaN   1.0  heal NaN\n",
      "4           WG         Rogue   2  3  23  65483  19629  NaN   1.0   dps NaN\n",
      "0        48155\n",
      "1        27025\n",
      "2          824\n",
      "3         7046\n",
      "4        65483\n",
      "         ...  \n",
      "3721    123000\n",
      "3722     13087\n",
      "3723     57365\n",
      "3724     44997\n",
      "3725     85443\n",
      "Name: DD, Length: 3726, dtype: int64\n"
     ]
    }
   ],
   "source": [
    "x = df1.drop(['Faction','Honor','Code'], axis = 1)   # removing faction, honor and Code columns for now\n",
    "print(x.head())\n",
    "y = df1['DD']    # displaying the Damange done for the y outcome\n",
    "print(y)"
   ]
  },
  {
   "cell_type": "code",
   "execution_count": 135,
   "id": "b6cbbf01",
   "metadata": {},
   "outputs": [
    {
     "data": {
      "image/png": "[encoded data removed]",
      "text/plain": [
       "<Figure size 720x720 with 1 Axes>"
      ]
     },
     "metadata": {
      "needs_background": "light"
     },
     "output_type": "display_data"
    }
   ],
   "source": [
    "plt.figure()\n",
    "df_monk['HD'].plot.hist()\n",
    "plt.xlabel('Heals Done')\n",
    "plt.ylabel('# of player')\n",
    "plt.title('Total monk players healing statistic')\n",
    "plt.show()"
   ]
  },
  {
   "cell_type": "code",
   "execution_count": 164,
   "id": "9bc427af",
   "metadata": {},
   "outputs": [
    {
     "data": {
      "image/png": "[encoded data removed]",
      "text/plain": [
       "<Figure size 1080x720 with 1 Axes>"
      ]
     },
     "metadata": {
      "needs_background": "light"
     },
     "output_type": "display_data"
    }
   ],
   "source": [
    "plt.figure()\n",
    "dfwg_monk['HD'].plot.hist()\n",
    "plt.xlabel('Heals Done')\n",
    "plt.ylabel('# of player')\n",
    "plt.title('Amount of healing done by Monk healer Walsong Gulch')\n",
    "plt.show()                     # Based on the histogram, lots of players are sitting between 0 ~ 250,000\n",
    "                                # This histogram is from dfwg"
   ]
  },
  {
   "cell_type": "code",
   "execution_count": 165,
   "id": "d7666b4e",
   "metadata": {},
   "outputs": [
    {
     "data": {
      "image/png": "[encoded data removed]",
      "text/plain": [
       "<Figure size 1080x720 with 1 Axes>"
      ]
     },
     "metadata": {
      "needs_background": "light"
     },
     "output_type": "display_data"
    }
   ],
   "source": [
    "plt.figure()\n",
    "dftk_monk['HD'].plot.hist()\n",
    "plt.xlabel('Heals Done')\n",
    "plt.ylabel('# of player')\n",
    "plt.title('Amount of healing done by Monk healer in Temple of Kotmogu')\n",
    "plt.show()\n",
    "\n",
    "                        # this diagram shows wide range of heals done by players\n",
    "                        # mostly, they are at 0 ~ 250,000 but decent amount of players sitting above 150,000"
   ]
  },
  {
   "cell_type": "code",
   "execution_count": 149,
   "id": "48fa09d4",
   "metadata": {},
   "outputs": [
    {
     "data": {
      "text/plain": [
       "<Figure size 720x720 with 0 Axes>"
      ]
     },
     "metadata": {},
     "output_type": "display_data"
    },
    {
     "data": {
      "image/png": "[encoded data removed]",
      "text/plain": [
       "<Figure size 720x720 with 1 Axes>"
      ]
     },
     "metadata": {
      "needs_background": "light"
     },
     "output_type": "display_data"
    }
   ],
   "source": [
    "plt.figure()\n",
    "dfwg.plot.scatter('Honor', 'HK')\n",
    "plt.xlabel('Honor gained')\n",
    "plt.ylabel('Honorable Kills')\n",
    "plt.show()                     \n",
    "# displays that High honorable kills doesn't mean high honor gained since it tells that few players with low honorable kills\n",
    "# were able to reachieve high amount of honor. "
   ]
  },
  {
   "cell_type": "code",
   "execution_count": 171,
   "id": "45daf2f1",
   "metadata": {},
   "outputs": [
    {
     "data": {
      "image/png": "[encoded data removed]",
      "text/plain": [
       "<Figure size 1080x720 with 1 Axes>"
      ]
     },
     "metadata": {
      "needs_background": "light"
     },
     "output_type": "display_data"
    }
   ],
   "source": [
    "plt.figure()\n",
    "dfwg_warrior['DD'].plot.hist()\n",
    "plt.xlabel('Damage Done')\n",
    "plt.ylabel('# of player')\n",
    "plt.title('Amount of damange done by Warriors in WG')\n",
    "plt.show()                        "
   ]
  },
  {
   "cell_type": "code",
   "execution_count": 172,
   "id": "44f18476",
   "metadata": {},
   "outputs": [
    {
     "data": {
      "image/png": "[encoded data removed]",
      "text/plain": [
       "<Figure size 1080x720 with 1 Axes>"
      ]
     },
     "metadata": {
      "needs_background": "light"
     },
     "output_type": "display_data"
    }
   ],
   "source": [
    "plt.figure()\n",
    "dftk_warrior['DD'].plot.hist()\n",
    "plt.xlabel('Damage Done')\n",
    "plt.ylabel('# of player')\n",
    "plt.title('Amount of damange done by Warriors in TK')\n",
    "plt.show()    "
   ]
  },
  {
   "cell_type": "code",
   "execution_count": null,
   "id": "b95f49ff",
   "metadata": {},
   "outputs": [],
   "source": []
  }
 ],
 "metadata": {
  "kernelspec": {
   "display_name": "Python 3 (ipykernel)",
   "language": "python",
   "name": "python3"
  },
  "language_info": {
   "codemirror_mode": {
    "name": "ipython",
    "version": 3
   },
   "file_extension": ".py",
   "mimetype": "text/x-python",
   "name": "python",
   "nbconvert_exporter": "python",
   "pygments_lexer": "ipython3",
   "version": "3.7.11"
  }
 },
 "nbformat": 4,
 "nbformat_minor": 5
}
